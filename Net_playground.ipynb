{
 "cells": [
  {
   "cell_type": "markdown",
   "id": "9782c6b4",
   "metadata": {},
   "source": [
    "Notebook to try differnet network architectures"
   ]
  },
  {
   "cell_type": "code",
   "execution_count": 1,
   "id": "7faddf3f",
   "metadata": {},
   "outputs": [],
   "source": [
    "import torch.nn as nn\n",
    "import torch\n",
    "from model import TextProcessing, Classifier, Fusion, BaselineFusion, StackedAttention, average_layer"
   ]
  },
  {
   "cell_type": "code",
   "execution_count": 2,
   "id": "8f101a63",
   "metadata": {},
   "outputs": [],
   "source": [
    "import json\n",
    "from torch.utils.data import DataLoader\n",
    "from VQA_Dataset import VQA_Data\n",
    "\n",
    "# Load dict\n",
    "l_dict = json.load(open('data/vocabulary_alternate.json'))\n",
    "# Select device\n",
    "device = \"cpu\"#torch.device(\"cuda\" if torch.cuda.is_available() else \"cpu\")\n",
    "\n",
    "# Define dataloader\n",
    "# TODO - Code change for test data loader or is it reqd??\n",
    "dataset = VQA_Data('train')\n",
    "train_dataloader = DataLoader(dataset, batch_size = 4, shuffle=True)\n",
    "d_batch = next(iter(train_dataloader))"
   ]
  },
  {
   "cell_type": "code",
   "execution_count": 3,
   "id": "a048fb39",
   "metadata": {},
   "outputs": [],
   "source": [
    "ques_e = d_batch['quest_e'].squeeze(1).to(device)\n",
    "img_e = d_batch['img_e'].squeeze(1).to(device)\n",
    "ques_l = d_batch['quest_l'].to(device)\n",
    "ans_e = d_batch['ans_e'].view(-1).to(device)\n",
    "img_p = d_batch['img_p']\n",
    "ques = d_batch['quest_s']"
   ]
  },
  {
   "cell_type": "code",
   "execution_count": 4,
   "id": "d6541e28",
   "metadata": {},
   "outputs": [
    {
     "name": "stdout",
     "output_type": "stream",
     "text": [
      "torch.Size([4, 15])\n",
      "torch.Size([4, 2048, 10, 10])\n",
      "torch.Size([4])\n"
     ]
    }
   ],
   "source": [
    "l_dict = json.load(open('data/vocabulary_alternate.json'))\n",
    "print(ques_e.size())\n",
    "print(img_e.size())\n",
    "print(ans_e.size())"
   ]
  },
  {
   "cell_type": "code",
   "execution_count": 5,
   "id": "b0a21038",
   "metadata": {},
   "outputs": [],
   "source": [
    "class TiledAttention(nn.Module):\n",
    "    # init method to initialize and the forward function\n",
    "    def __init__(self, l_dict, dropout = None):\n",
    "        super(TiledAttention,self).__init__()\n",
    "        glimpses=2\n",
    "        img_vec_size=2048\n",
    "        text_vec_size = 1024\n",
    "        ques_len=300 # size of embedding vector\n",
    "                \n",
    "        self.text = TextProcessing(l_dict,l_ques=ques_len,embedding_size=text_vec_size, dropout = dropout)\n",
    "        self.fuse = Fusion(v=img_vec_size,q=text_vec_size,mid=512,glimpses=glimpses, dropout = dropout)\n",
    "        self.classifier =  Classifier(in_features=glimpses*img_vec_size+text_vec_size,mid_features=text_vec_size,out_features=3001, dropout = dropout)\n",
    "        \n",
    "    def forward(self,text_vec,img_vec,q_len):\n",
    "        text_vec=self.text(text_vec,q_len) #text_processing\n",
    "        f = self.fuse(img_vec,text_vec) #fuse_image_vec and text_vec\n",
    "        img_vec = average_layer(img_vec,f) #pass through softmax\n",
    "        vec = torch.cat([img_vec,text_vec], dim = 1) #concatenate text_proc with this heat map\n",
    "        out = self.classifier(vec)#pass through classifier\n",
    "        return out"
   ]
  },
  {
   "cell_type": "code",
   "execution_count": 6,
   "id": "4fef63a3",
   "metadata": {},
   "outputs": [
    {
     "name": "stdout",
     "output_type": "stream",
     "text": [
      "torch.Size([4, 3001])\n"
     ]
    }
   ],
   "source": [
    "t_att_model = TiledAttention(len(l_dict['questions'])+1).to(device)\n",
    "pred = t_att_model(ques_e, img_e, ques_l)\n",
    "print(pred.size())"
   ]
  },
  {
   "cell_type": "code",
   "execution_count": 11,
   "id": "1f23ac2f",
   "metadata": {},
   "outputs": [],
   "source": [
    "class BaseLine(nn.Module):\n",
    "    def __init__(self, l_dict, dropout = None):\n",
    "        super(BaseLine,self).__init__()\n",
    "        text_vec_size = 1024\n",
    "        ques_len=300 # size of embedding vector\n",
    "        num_classes = 3001\n",
    "                \n",
    "        self.text = TextProcessing(l_dict,l_ques=ques_len,embedding_size=text_vec_size, dropout = dropout)\n",
    "        self.fusion = BaselineFusion(num_classes)\n",
    "    \n",
    "    def forward(self,text_vec,img_vec,q_len):\n",
    "        text_vec=self.text(text_vec,q_len) #text_processing\n",
    "        pred = self.fusion(img_vec, text_vec)\n",
    "        return pred"
   ]
  },
  {
   "cell_type": "code",
   "execution_count": 12,
   "id": "58db3a31",
   "metadata": {},
   "outputs": [
    {
     "name": "stdout",
     "output_type": "stream",
     "text": [
      "torch.Size([4, 3001])\n"
     ]
    }
   ],
   "source": [
    "b_att_model = BaseLine(len(l_dict['questions'])+1).to(device)\n",
    "pred = b_att_model(ques_e, img_e, ques_l)\n",
    "print(pred.size())"
   ]
  },
  {
   "cell_type": "code",
   "execution_count": 13,
   "id": "d6bef06f",
   "metadata": {},
   "outputs": [],
   "source": [
    "class SANModel(nn.Module):\n",
    "    def __init__(self, l_dict, dropout = None):\n",
    "        super(SANModel,self).__init__()\n",
    "        text_vec_size = 1024\n",
    "        ques_len=300 # size of embedding vector\n",
    "        num_classes = 3001\n",
    "                \n",
    "        self.text = TextProcessing(l_dict,l_ques=ques_len,embedding_size=text_vec_size, dropout = dropout)\n",
    "        self.fusion = StackedAttention(num_classes)\n",
    "    \n",
    "    def forward(self,text_vec,img_vec,q_len):\n",
    "        text_vec=self.text(text_vec,q_len) #text_processing\n",
    "        pred = self.fusion(img_vec, text_vec)\n",
    "        return pred"
   ]
  },
  {
   "cell_type": "code",
   "execution_count": 14,
   "id": "46d38d78",
   "metadata": {},
   "outputs": [
    {
     "name": "stdout",
     "output_type": "stream",
     "text": [
      "torch.Size([4, 3001])\n"
     ]
    }
   ],
   "source": [
    "san_att_model = SANModel(len(l_dict['questions'])+1).to(device)\n",
    "pred = san_att_model(ques_e, img_e, ques_l)\n",
    "print(pred.size())"
   ]
  },
  {
   "cell_type": "code",
   "execution_count": null,
   "id": "e278a3ab",
   "metadata": {},
   "outputs": [],
   "source": []
  }
 ],
 "metadata": {
  "kernelspec": {
   "display_name": "Python 3 (clean)",
   "language": "python",
   "name": "python3_clean"
  },
  "language_info": {
   "codemirror_mode": {
    "name": "ipython",
    "version": 3
   },
   "file_extension": ".py",
   "mimetype": "text/x-python",
   "name": "python",
   "nbconvert_exporter": "python",
   "pygments_lexer": "ipython3",
   "version": "3.9.5"
  }
 },
 "nbformat": 4,
 "nbformat_minor": 5
}
